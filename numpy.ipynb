{
 "cells": [
  {
   "cell_type": "markdown",
   "metadata": {},
   "source": [
    "Viewing Arrays and matricies"
   ]
  },
  {
   "cell_type": "code",
   "execution_count": null,
   "metadata": {},
   "outputs": [
    {
     "data": {
      "text/plain": [
       "array([[[[6, 3, 7, 4, 6],\n",
       "         [9, 2, 6, 7, 4],\n",
       "         [3, 7, 7, 2, 5],\n",
       "         [4, 1, 7, 5, 1]],\n",
       "\n",
       "        [[4, 0, 9, 5, 8],\n",
       "         [0, 9, 2, 6, 3],\n",
       "         [8, 2, 4, 2, 6],\n",
       "         [4, 8, 6, 1, 3]],\n",
       "\n",
       "        [[8, 1, 9, 8, 9],\n",
       "         [4, 1, 3, 6, 7],\n",
       "         [2, 0, 3, 1, 7],\n",
       "         [3, 1, 5, 5, 9]]],\n",
       "\n",
       "\n",
       "       [[[3, 5, 1, 9, 1],\n",
       "         [9, 3, 7, 6, 8],\n",
       "         [7, 4, 1, 4, 7],\n",
       "         [9, 8, 8, 0, 8]],\n",
       "\n",
       "        [[6, 8, 7, 0, 7],\n",
       "         [7, 2, 0, 7, 2],\n",
       "         [2, 0, 4, 9, 6],\n",
       "         [9, 8, 6, 8, 7]],\n",
       "\n",
       "        [[1, 0, 6, 6, 7],\n",
       "         [4, 2, 7, 5, 2],\n",
       "         [0, 2, 4, 2, 0],\n",
       "         [4, 9, 6, 6, 8]]]], dtype=int32)"
      ]
     },
     "execution_count": 34,
     "metadata": {},
     "output_type": "execute_result"
    }
   ],
   "source": [
    "import numpy as np\n",
    "\n",
    "np.random.seed(42)\n",
    "a4 = np.random.randint(10, size=(2, 3, 4, 5))\n",
    "a4[:, :, :, :]"
   ]
  },
  {
   "cell_type": "code",
   "execution_count": 35,
   "metadata": {},
   "outputs": [
    {
     "data": {
      "text/plain": [
       "array([[[[6],\n",
       "         [9],\n",
       "         [3],\n",
       "         [4]],\n",
       "\n",
       "        [[4],\n",
       "         [0],\n",
       "         [8],\n",
       "         [4]],\n",
       "\n",
       "        [[8],\n",
       "         [4],\n",
       "         [2],\n",
       "         [3]]],\n",
       "\n",
       "\n",
       "       [[[3],\n",
       "         [9],\n",
       "         [7],\n",
       "         [9]],\n",
       "\n",
       "        [[6],\n",
       "         [7],\n",
       "         [2],\n",
       "         [9]],\n",
       "\n",
       "        [[1],\n",
       "         [4],\n",
       "         [0],\n",
       "         [4]]]], dtype=int32)"
      ]
     },
     "execution_count": 35,
     "metadata": {},
     "output_type": "execute_result"
    }
   ],
   "source": [
    "a4[:, :, :, :1]\n"
   ]
  },
  {
   "cell_type": "code",
   "execution_count": 36,
   "metadata": {},
   "outputs": [
    {
     "data": {
      "text/plain": [
       "array([[0.07630829, 0.77991879, 0.43840923],\n",
       "       [0.72346518, 0.97798951, 0.53849587],\n",
       "       [0.50112046, 0.07205113, 0.26843898],\n",
       "       [0.4998825 , 0.67923   , 0.80373904],\n",
       "       [0.38094113, 0.06593635, 0.2881456 ]])"
      ]
     },
     "execution_count": 36,
     "metadata": {},
     "output_type": "execute_result"
    }
   ],
   "source": [
    "np.random.seed(7)\n",
    "random_array = np.random.random((5,3))\n",
    "random_array"
   ]
  }
 ],
 "metadata": {
  "kernelspec": {
   "display_name": "Python 3",
   "language": "python",
   "name": "python3"
  },
  "language_info": {
   "codemirror_mode": {
    "name": "ipython",
    "version": 3
   },
   "file_extension": ".py",
   "mimetype": "text/x-python",
   "name": "python",
   "nbconvert_exporter": "python",
   "pygments_lexer": "ipython3",
   "version": "3.11.1"
  }
 },
 "nbformat": 4,
 "nbformat_minor": 2
}
